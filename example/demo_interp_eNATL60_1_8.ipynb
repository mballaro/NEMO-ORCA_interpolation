{
 "cells": [
  {
   "cell_type": "code",
   "execution_count": null,
   "id": "8fec2a03-f8b4-4f9c-becb-32edd51ea5fa",
   "metadata": {},
   "outputs": [],
   "source": [
    "import sys"
   ]
  },
  {
   "cell_type": "code",
   "execution_count": null,
   "id": "f2716acf-8a98-4ac1-b22d-6d9445826d20",
   "metadata": {},
   "outputs": [],
   "source": [
    "sys.path.append('..')"
   ]
  },
  {
   "cell_type": "code",
   "execution_count": null,
   "id": "cd253e1f-6d62-4f29-8397-708c3c29cecc",
   "metadata": {},
   "outputs": [],
   "source": [
    "from src.mod_interpolation import *"
   ]
  },
  {
   "cell_type": "code",
   "execution_count": null,
   "id": "e4605be5-16e2-471c-9340-4354f506bf69",
   "metadata": {},
   "outputs": [],
   "source": [
    "source_param = {\n",
    "    'filename' : '/work/ALT/odatis/eNATL60/BLB002/gridT-2D/eNATL60-BLB002_1h_20090916-20090916_gridT-2D.nc',  \n",
    "    'var_name' : 'sossheig', \n",
    "    'meshmask' : '/work/ALT/odatis/eNATL60/mesh_mask_eNATL60_3.6.nc',\n",
    "    'var_mask' : 'tmaskutil',\n",
    "    'lon_name' : 'nav_lon',\n",
    "    'lat_name' : 'nav_lat',\n",
    "    'time_name' : 'time_counter'\n",
    "}"
   ]
  },
  {
   "cell_type": "code",
   "execution_count": null,
   "id": "5e7155c5-2b17-4782-aac7-bf6da771f767",
   "metadata": {},
   "outputs": [],
   "source": [
    "target_param = {\n",
    "    'filename' : '',  \n",
    "    'var_name' : 'sossheig_interp', \n",
    "    'lon_name' : 'lon',\n",
    "    'lat_name' : 'lat',\n",
    "    'lon_vector' : np.arange(-100., 45., 1./8.),\n",
    "    'lat_vector' : np.arange(2., 72., 1./8),\n",
    "    'time_name' : 'time',\n",
    "}"
   ]
  },
  {
   "cell_type": "code",
   "execution_count": null,
   "id": "aa3dfd2d-21ac-4bed-a364-56d99abe1f8d",
   "metadata": {},
   "outputs": [],
   "source": [
    "interpolation_param = {\n",
    "    'radius_of_search': 111000.*2.1/60.,\n",
    "    'extrapolate': False,\n",
    "    'output_filename' : 'eNATL60-BLB002_to_reg_1_8.nc'\n",
    "}"
   ]
  },
  {
   "cell_type": "code",
   "execution_count": null,
   "id": "39e42631-d73e-41a8-bdd4-7d4989252b9e",
   "metadata": {},
   "outputs": [],
   "source": [
    "interpolation_orca(source_param, target_param, interpolation_param)"
   ]
  },
  {
   "cell_type": "code",
   "execution_count": null,
   "id": "99dc75ab-c4e7-4ba4-b29d-afb991aca2fc",
   "metadata": {},
   "outputs": [],
   "source": []
  },
  {
   "cell_type": "code",
   "execution_count": null,
   "id": "f5f661b4-532c-4c0f-9fb1-8ddc3c6d20cb",
   "metadata": {},
   "outputs": [],
   "source": []
  },
  {
   "cell_type": "code",
   "execution_count": null,
   "id": "ff179208-6abd-44c5-b099-760e1965f37b",
   "metadata": {},
   "outputs": [],
   "source": []
  },
  {
   "cell_type": "code",
   "execution_count": null,
   "id": "3e3e13cf-e245-4d50-8b84-248310d78f96",
   "metadata": {},
   "outputs": [],
   "source": []
  }
 ],
 "metadata": {
  "kernelspec": {
   "display_name": "Pangeo Stable",
   "language": "python",
   "name": "pangeo_stable"
  },
  "language_info": {
   "codemirror_mode": {
    "name": "ipython",
    "version": 3
   },
   "file_extension": ".py",
   "mimetype": "text/x-python",
   "name": "python",
   "nbconvert_exporter": "python",
   "pygments_lexer": "ipython3",
   "version": "3.9.10"
  }
 },
 "nbformat": 4,
 "nbformat_minor": 5
}
